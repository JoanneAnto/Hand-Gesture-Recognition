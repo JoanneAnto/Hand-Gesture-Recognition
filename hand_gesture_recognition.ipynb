{
  "cells": [
    {
      "cell_type": "markdown",
      "metadata": {
        "id": "0TIv1OgkudwX"
      },
      "source": [
        "Model Building"
      ]
    },
    {
      "cell_type": "code",
      "execution_count": null,
      "metadata": {
        "id": "X5hKbK6rC1Dk"
      },
      "outputs": [],
      "source": [
        "#pip install keras_squeezenet"
      ]
    },
    {
      "cell_type": "code",
      "execution_count": null,
      "metadata": {
        "id": "mEEMaJyJVMDB"
      },
      "outputs": [],
      "source": [
        "import numpy as np\n",
        "from keras_squeezenet import SqueezeNet\n",
        "\n",
        "from keras.models import Model, load_model\n",
        "from keras.optimizers import adam_v2\n",
        "from keras.utils import np_utils\n",
        "\n",
        "from keras.layers import Activation, Dropout, Convolution2D, GlobalAveragePooling2D\n",
        "from keras.models import Sequential\n",
        "import tensorflow as tf"
      ]
    },
    {
      "cell_type": "code",
      "execution_count": null,
      "metadata": {
        "colab": {
          "base_uri": "https://localhost:8080/"
        },
        "id": "4SNnlETCtVDY",
        "outputId": "d3059e48-0f3b-46b0-bf84-4c1aa24a9fd5"
      },
      "outputs": [
        {
          "name": "stdout",
          "output_type": "stream",
          "text": [
            "Mounted at /content/drive\n"
          ]
        }
      ],
      "source": [
        "from google.colab import drive\n",
        "drive.mount('/content/drive')"
      ]
    },
    {
      "cell_type": "code",
      "execution_count": null,
      "metadata": {
        "id": "aIHltqWV2TKs"
      },
      "outputs": [],
      "source": [
        "\n",
        "# from keras_applications.imagenet_utils import _obtain_input_shape \n",
        "# from keras.utils.layer_utils import get_source_inputs"
      ]
    },
    {
      "cell_type": "code",
      "execution_count": null,
      "metadata": {
        "id": "blj--XNBTBQ5"
      },
      "outputs": [],
      "source": [
        "import os"
      ]
    },
    {
      "cell_type": "code",
      "execution_count": null,
      "metadata": {
        "id": "VEvDr5CQT5og"
      },
      "outputs": [],
      "source": [
        "def def_model_param():\n",
        "    GESTURE_CATEGORIES = len(CATEGORY_MAP)\n",
        "    base_model = Sequential()\n",
        "    base_model.add(SqueezeNet(input_shape=(224, 224, 3), include_top=False))\n",
        "    base_model.add(Dropout(0.5))\n",
        "    base_model.add(Convolution2D(GESTURE_CATEGORIES, (1, 1), padding='valid'))\n",
        "    base_model.add(Activation('relu'))\n",
        "    base_model.add(GlobalAveragePooling2D())\n",
        "    base_model.add(Activation('softmax'))\n",
        "\n",
        "    return base_model"
      ]
    },
    {
      "cell_type": "code",
      "execution_count": null,
      "metadata": {
        "id": "vJLjhFgLT5lb"
      },
      "outputs": [],
      "source": [
        "def label_mapper(val):\n",
        "    return CATEGORY_MAP[val]"
      ]
    },
    {
      "cell_type": "code",
      "execution_count": null,
      "metadata": {
        "id": "kSPbpE6hT5iH"
      },
      "outputs": [],
      "source": [
        "training_img_folder = '/content/drive/MyDrive/Hand_Gesture'"
      ]
    },
    {
      "cell_type": "code",
      "execution_count": null,
      "metadata": {
        "id": "uMpFOAyzT5gg"
      },
      "outputs": [],
      "source": [
        "import string\n",
        "from PIL import Image"
      ]
    },
    {
      "cell_type": "code",
      "execution_count": null,
      "metadata": {
        "colab": {
          "base_uri": "https://localhost:8080/"
        },
        "id": "82vYbejpT5ep",
        "outputId": "33aeb21c-6da7-4cd1-b970-69067c1cd7d5"
      },
      "outputs": [
        {
          "data": {
            "text/plain": [
              "36"
            ]
          },
          "execution_count": 14,
          "metadata": {},
          "output_type": "execute_result"
        }
      ],
      "source": [
        "dig = [str(i) for i in range(10)]\n",
        "cha = list(string.ascii_uppercase[:])\n",
        "lst = cha + dig\n",
        "len(lst)"
      ]
    },
    {
      "cell_type": "code",
      "execution_count": null,
      "metadata": {
        "colab": {
          "base_uri": "https://localhost:8080/"
        },
        "id": "d1o8gGX_T5Zq",
        "outputId": "d01a2357-7d14-476f-c9bc-7661f3a6ea97"
      },
      "outputs": [
        {
          "name": "stdout",
          "output_type": "stream",
          "text": [
            "{'A': 0, 'B': 1, 'C': 2, 'D': 3, 'E': 4, 'F': 5, 'G': 6, 'H': 7, 'I': 8, 'J': 9, 'K': 10, 'L': 11, 'M': 12, 'N': 13, 'O': 14, 'P': 15, 'Q': 16, 'R': 17, 'S': 18, 'T': 19, 'U': 20, 'V': 21, 'W': 22, 'X': 23, 'Y': 24, 'Z': 25, '0': 26, '1': 27, '2': 28, '3': 29, '4': 30, '5': 31, '6': 32, '7': 33, '8': 34, '9': 35}\n"
          ]
        }
      ],
      "source": [
        "CATEGORY_MAP = dict()\n",
        "count = 0\n",
        "for i in lst:\n",
        "  CATEGORY_MAP[i]=count\n",
        "  count = count +1\n",
        "print(CATEGORY_MAP)"
      ]
    },
    {
      "cell_type": "code",
      "execution_count": null,
      "metadata": {
        "colab": {
          "base_uri": "https://localhost:8080/"
        },
        "id": "_SNi4QCI_ODz",
        "outputId": "23272ec7-b9fa-471d-d11e-a8d697b9c465"
      },
      "outputs": [
        {
          "data": {
            "text/plain": [
              "{'A': 0,\n",
              " 'B': 1,\n",
              " 'C': 2,\n",
              " 'D': 3,\n",
              " 'E': 4,\n",
              " 'F': 5,\n",
              " 'G': 6,\n",
              " 'H': 7,\n",
              " 'I': 8,\n",
              " 'J': 9,\n",
              " 'K': 10,\n",
              " 'L': 11,\n",
              " 'M': 12,\n",
              " 'N': 13,\n",
              " 'O': 14,\n",
              " 'P': 15,\n",
              " 'Q': 16,\n",
              " 'R': 17,\n",
              " 'S': 18,\n",
              " 'T': 19,\n",
              " 'U': 20,\n",
              " 'V': 21,\n",
              " 'W': 22,\n",
              " 'X': 23,\n",
              " 'Y': 24,\n",
              " 'Z': 25,\n",
              " '0': 26,\n",
              " '1': 27,\n",
              " '2': 28,\n",
              " '3': 29,\n",
              " '4': 30,\n",
              " '5': 31,\n",
              " '6': 32,\n",
              " '7': 33,\n",
              " '8': 34,\n",
              " '9': 35}"
            ]
          },
          "execution_count": 82,
          "metadata": {},
          "output_type": "execute_result"
        }
      ],
      "source": [
        "CATEGORY_MAP"
      ]
    },
    {
      "cell_type": "code",
      "execution_count": null,
      "metadata": {
        "id": "1cAIS_P8VN7q"
      },
      "outputs": [],
      "source": [
        "import cv2"
      ]
    },
    {
      "cell_type": "markdown",
      "metadata": {
        "id": "m-qFluC6uqAm"
      },
      "source": [
        "Reading data from folder"
      ]
    },
    {
      "cell_type": "code",
      "execution_count": null,
      "metadata": {
        "id": "pyN1G0C7Ut-v"
      },
      "outputs": [],
      "source": [
        "input_data = []\n",
        "for sub_folder_name in os.listdir(training_img_folder):\n",
        "    path = os.path.join(training_img_folder, sub_folder_name)\n",
        "    for fileName in os.listdir(path):\n",
        "        if fileName.endswith(\".jpg\"):\n",
        "            img = cv2.imread(os.path.join(path, fileName))\n",
        "            img = cv2.cvtColor(img, cv2.COLOR_BGR2RGB)\n",
        "            img = cv2.resize(img, (224, 224))\n",
        "            #'input_data' stores the input image array and its corresponding label or category name\n",
        "            input_data.append([img, sub_folder_name])"
      ]
    },
    {
      "cell_type": "code",
      "execution_count": null,
      "metadata": {
        "id": "iflaqsFEUt86"
      },
      "outputs": [],
      "source": [
        "img_data, labels = zip(*input_data)\n",
        "labels = list(map(label_mapper, labels))\n",
        "labels = np.array(labels).reshape(-1,1)"
      ]
    },
    {
      "cell_type": "code",
      "execution_count": null,
      "metadata": {
        "id": "rbBfsNNPdRCJ"
      },
      "outputs": [],
      "source": [
        "labels = np_utils.to_categorical(labels)"
      ]
    },
    {
      "cell_type": "markdown",
      "metadata": {
        "id": "dKyQo4CdD7c_"
      },
      "source": [
        "Training the model"
      ]
    },
    {
      "cell_type": "code",
      "execution_count": null,
      "metadata": {
        "id": "fIRUEpBLUtwY"
      },
      "outputs": [],
      "source": [
        "from sklearn.model_selection import train_test_split\n",
        "X_train, X_test, y_train, y_test = train_test_split(img_data, labels, test_size = 0.2, random_state = 12345)"
      ]
    },
    {
      "cell_type": "code",
      "execution_count": null,
      "metadata": {
        "id": "-WmQ5YMeOXf0"
      },
      "outputs": [],
      "source": [
        "# X_train = np.array(X_train)\n",
        "# X_validate = np.array(X_validate)\n",
        "# y_train = np.array(y_train)\n",
        "# y_validate = np.array(y_validate)"
      ]
    },
    {
      "cell_type": "code",
      "execution_count": null,
      "metadata": {
        "id": "IIyCNlDeOVit"
      },
      "outputs": [],
      "source": [
        "# X_train = X_train.reshape(X_train.shape[0], *(28, 28, 1))\n",
        "# X_test = X_test.reshape(X_test.shape[0], *(28, 28, 1))\n",
        "# X_validate = X_validate.reshape(X_validate.shape[0], *(28, 28, 1))"
      ]
    },
    {
      "cell_type": "code",
      "execution_count": null,
      "metadata": {
        "id": "F-DqBpLLK0bS"
      },
      "outputs": [],
      "source": [
        "import matplotlib.pyplot as plt\n"
      ]
    },
    {
      "cell_type": "code",
      "execution_count": null,
      "metadata": {
        "colab": {
          "base_uri": "https://localhost:8080/"
        },
        "id": "EV95Tjo-YZbZ",
        "outputId": "b2bebc5d-95a8-4871-f036-bd1c996b307d"
      },
      "outputs": [
        {
          "name": "stdout",
          "output_type": "stream",
          "text": [
            "Downloading data from https://github.com/rcmalli/keras-squeezenet/releases/download/v1.0/squeezenet_weights_tf_dim_ordering_tf_kernels_notop.h5\n",
            "3032184/3032184 [==============================] - 0s 0us/step\n"
          ]
        }
      ],
      "source": [
        "model = def_model_param()\n",
        "lr = 0.0001\n",
        "optimizer = adam_v2.Adam(learning_rate=lr)\n",
        "model.compile(loss='categorical_crossentropy',  optimizer=optimizer , metrics=['accuracy'])"
      ]
    },
    {
      "cell_type": "code",
      "execution_count": null,
      "metadata": {
        "colab": {
          "base_uri": "https://localhost:8080/"
        },
        "id": "Hlcm9_ELL8yr",
        "outputId": "c76c40dd-3023-4e3a-d95d-bffd02b634ed"
      },
      "outputs": [
        {
          "name": "stdout",
          "output_type": "stream",
          "text": [
            "Model: \"sequential\"\n",
            "_________________________________________________________________\n",
            " Layer (type)                Output Shape              Param #   \n",
            "=================================================================\n",
            " squeezenet (Functional)     (None, 13, 13, 512)       722496    \n",
            "                                                                 \n",
            " dropout (Dropout)           (None, 13, 13, 512)       0         \n",
            "                                                                 \n",
            " conv2d (Conv2D)             (None, 13, 13, 36)        18468     \n",
            "                                                                 \n",
            " activation (Activation)     (None, 13, 13, 36)        0         \n",
            "                                                                 \n",
            " global_average_pooling2d (G  (None, 36)               0         \n",
            " lobalAveragePooling2D)                                          \n",
            "                                                                 \n",
            " activation_1 (Activation)   (None, 36)                0         \n",
            "                                                                 \n",
            "=================================================================\n",
            "Total params: 740,964\n",
            "Trainable params: 740,964\n",
            "Non-trainable params: 0\n",
            "_________________________________________________________________\n"
          ]
        }
      ],
      "source": [
        "model.summary()"
      ]
    },
    {
      "cell_type": "code",
      "execution_count": null,
      "metadata": {
        "colab": {
          "base_uri": "https://localhost:8080/"
        },
        "id": "hiB_3txdYZZq",
        "outputId": "25d25166-40b9-4af3-b052-a111d74ef785"
      },
      "outputs": [
        {
          "name": "stdout",
          "output_type": "stream",
          "text": [
            "Epoch 1/50\n",
            "30/30 [==============================] - 42s 902ms/step - loss: 4.0221 - accuracy: 0.0699 - val_loss: 3.2849 - val_accuracy: 0.1989\n",
            "Epoch 2/50\n",
            "30/30 [==============================] - 22s 727ms/step - loss: 2.6521 - accuracy: 0.3417 - val_loss: 1.4846 - val_accuracy: 0.6547\n",
            "Epoch 3/50\n",
            "30/30 [==============================] - 22s 733ms/step - loss: 0.8519 - accuracy: 0.7742 - val_loss: 0.1976 - val_accuracy: 0.9550\n",
            "Epoch 4/50\n",
            "30/30 [==============================] - 22s 741ms/step - loss: 0.1893 - accuracy: 0.9484 - val_loss: 0.0791 - val_accuracy: 0.9817\n",
            "Epoch 5/50\n",
            "30/30 [==============================] - 22s 748ms/step - loss: 0.1051 - accuracy: 0.9713 - val_loss: 0.0524 - val_accuracy: 0.9873\n",
            "Epoch 6/50\n",
            "30/30 [==============================] - 23s 759ms/step - loss: 0.0661 - accuracy: 0.9833 - val_loss: 0.0384 - val_accuracy: 0.9907\n",
            "Epoch 7/50\n",
            "30/30 [==============================] - 23s 753ms/step - loss: 0.0470 - accuracy: 0.9872 - val_loss: 0.0324 - val_accuracy: 0.9921\n",
            "Epoch 8/50\n",
            "30/30 [==============================] - 22s 751ms/step - loss: 0.0357 - accuracy: 0.9902 - val_loss: 0.0247 - val_accuracy: 0.9947\n",
            "Epoch 9/50\n",
            "30/30 [==============================] - 22s 751ms/step - loss: 0.0299 - accuracy: 0.9913 - val_loss: 0.0227 - val_accuracy: 0.9955\n",
            "Epoch 10/50\n",
            "30/30 [==============================] - 23s 752ms/step - loss: 0.0248 - accuracy: 0.9932 - val_loss: 0.0234 - val_accuracy: 0.9952\n",
            "Epoch 11/50\n",
            "30/30 [==============================] - 22s 750ms/step - loss: 0.0185 - accuracy: 0.9954 - val_loss: 0.0183 - val_accuracy: 0.9966\n",
            "Epoch 12/50\n",
            "30/30 [==============================] - 22s 750ms/step - loss: 0.0153 - accuracy: 0.9956 - val_loss: 0.0169 - val_accuracy: 0.9971\n",
            "Epoch 13/50\n",
            "30/30 [==============================] - 22s 750ms/step - loss: 0.0132 - accuracy: 0.9964 - val_loss: 0.0158 - val_accuracy: 0.9974\n",
            "Epoch 14/50\n",
            "30/30 [==============================] - 23s 772ms/step - loss: 0.0128 - accuracy: 0.9964 - val_loss: 0.0170 - val_accuracy: 0.9966\n",
            "Epoch 15/50\n",
            "30/30 [==============================] - 23s 753ms/step - loss: 0.0116 - accuracy: 0.9966 - val_loss: 0.0149 - val_accuracy: 0.9971\n",
            "Epoch 16/50\n",
            "30/30 [==============================] - 23s 754ms/step - loss: 0.0074 - accuracy: 0.9978 - val_loss: 0.0141 - val_accuracy: 0.9979\n",
            "Epoch 17/50\n",
            "30/30 [==============================] - 22s 751ms/step - loss: 0.0083 - accuracy: 0.9972 - val_loss: 0.0130 - val_accuracy: 0.9984\n",
            "Epoch 18/50\n",
            "30/30 [==============================] - 22s 749ms/step - loss: 0.0050 - accuracy: 0.9988 - val_loss: 0.0124 - val_accuracy: 0.9984\n",
            "Epoch 19/50\n",
            "30/30 [==============================] - 22s 751ms/step - loss: 0.0068 - accuracy: 0.9983 - val_loss: 0.0139 - val_accuracy: 0.9979\n",
            "Epoch 20/50\n",
            "30/30 [==============================] - 23s 754ms/step - loss: 0.0051 - accuracy: 0.9985 - val_loss: 0.0118 - val_accuracy: 0.9981\n",
            "Epoch 21/50\n",
            "30/30 [==============================] - 23s 754ms/step - loss: 0.0039 - accuracy: 0.9990 - val_loss: 0.0113 - val_accuracy: 0.9984\n",
            "Epoch 22/50\n",
            "30/30 [==============================] - 22s 752ms/step - loss: 0.0042 - accuracy: 0.9989 - val_loss: 0.0113 - val_accuracy: 0.9987\n",
            "Epoch 23/50\n",
            "30/30 [==============================] - 22s 751ms/step - loss: 0.0030 - accuracy: 0.9991 - val_loss: 0.0105 - val_accuracy: 0.9984\n",
            "Epoch 24/50\n",
            "30/30 [==============================] - 22s 750ms/step - loss: 0.0040 - accuracy: 0.9989 - val_loss: 0.0096 - val_accuracy: 0.9987\n",
            "Epoch 25/50\n",
            "30/30 [==============================] - 22s 751ms/step - loss: 0.0024 - accuracy: 0.9994 - val_loss: 0.0114 - val_accuracy: 0.9987\n",
            "Epoch 26/50\n",
            "30/30 [==============================] - 22s 751ms/step - loss: 0.0031 - accuracy: 0.9991 - val_loss: 0.0114 - val_accuracy: 0.9987\n",
            "Epoch 27/50\n",
            "30/30 [==============================] - 22s 750ms/step - loss: 0.0039 - accuracy: 0.9988 - val_loss: 0.0148 - val_accuracy: 0.9971\n",
            "Epoch 28/50\n",
            "30/30 [==============================] - 23s 752ms/step - loss: 0.0027 - accuracy: 0.9991 - val_loss: 0.0103 - val_accuracy: 0.9989\n",
            "Epoch 29/50\n",
            "30/30 [==============================] - 23s 753ms/step - loss: 0.0019 - accuracy: 0.9997 - val_loss: 0.0106 - val_accuracy: 0.9987\n",
            "Epoch 30/50\n",
            "30/30 [==============================] - 23s 753ms/step - loss: 0.0016 - accuracy: 0.9997 - val_loss: 0.0095 - val_accuracy: 0.9989\n",
            "Epoch 31/50\n",
            "30/30 [==============================] - 22s 751ms/step - loss: 0.0027 - accuracy: 0.9993 - val_loss: 0.0103 - val_accuracy: 0.9987\n",
            "Epoch 32/50\n",
            "30/30 [==============================] - 22s 750ms/step - loss: 0.0014 - accuracy: 0.9998 - val_loss: 0.0103 - val_accuracy: 0.9984\n",
            "Epoch 33/50\n",
            "30/30 [==============================] - 22s 750ms/step - loss: 0.0015 - accuracy: 0.9996 - val_loss: 0.0167 - val_accuracy: 0.9974\n",
            "Epoch 34/50\n",
            "30/30 [==============================] - 23s 753ms/step - loss: 0.0037 - accuracy: 0.9988 - val_loss: 0.0105 - val_accuracy: 0.9984\n",
            "Epoch 35/50\n",
            "30/30 [==============================] - 22s 751ms/step - loss: 0.0089 - accuracy: 0.9975 - val_loss: 0.0148 - val_accuracy: 0.9979\n",
            "Epoch 36/50\n",
            "30/30 [==============================] - 22s 751ms/step - loss: 0.0027 - accuracy: 0.9992 - val_loss: 0.0109 - val_accuracy: 0.9984\n",
            "Epoch 37/50\n",
            "30/30 [==============================] - 22s 751ms/step - loss: 0.0021 - accuracy: 0.9995 - val_loss: 0.0112 - val_accuracy: 0.9984\n",
            "Epoch 38/50\n",
            "30/30 [==============================] - 23s 753ms/step - loss: 0.0012 - accuracy: 0.9997 - val_loss: 0.0104 - val_accuracy: 0.9989\n",
            "Epoch 39/50\n",
            "30/30 [==============================] - 23s 754ms/step - loss: 0.0016 - accuracy: 0.9996 - val_loss: 0.0116 - val_accuracy: 0.9987\n",
            "Epoch 40/50\n",
            "30/30 [==============================] - 22s 750ms/step - loss: 0.0013 - accuracy: 0.9995 - val_loss: 0.0103 - val_accuracy: 0.9987\n",
            "Epoch 41/50\n",
            "30/30 [==============================] - 22s 749ms/step - loss: 0.0022 - accuracy: 0.9991 - val_loss: 0.0111 - val_accuracy: 0.9989\n",
            "Epoch 42/50\n",
            "30/30 [==============================] - 23s 752ms/step - loss: 0.0017 - accuracy: 0.9997 - val_loss: 0.0134 - val_accuracy: 0.9987\n",
            "Epoch 43/50\n",
            "30/30 [==============================] - 22s 751ms/step - loss: 0.0011 - accuracy: 0.9997 - val_loss: 0.0108 - val_accuracy: 0.9989\n",
            "Epoch 44/50\n",
            "30/30 [==============================] - 22s 750ms/step - loss: 0.0015 - accuracy: 0.9997 - val_loss: 0.0105 - val_accuracy: 0.9987\n",
            "Epoch 45/50\n",
            "30/30 [==============================] - 22s 751ms/step - loss: 0.0012 - accuracy: 0.9997 - val_loss: 0.0113 - val_accuracy: 0.9987\n",
            "Epoch 46/50\n",
            "30/30 [==============================] - 22s 750ms/step - loss: 0.0012 - accuracy: 0.9996 - val_loss: 0.0091 - val_accuracy: 0.9989\n",
            "Epoch 47/50\n",
            "30/30 [==============================] - 23s 753ms/step - loss: 7.1807e-04 - accuracy: 0.9999 - val_loss: 0.0122 - val_accuracy: 0.9987\n",
            "Epoch 48/50\n",
            "30/30 [==============================] - 22s 752ms/step - loss: 0.0012 - accuracy: 0.9997 - val_loss: 0.0099 - val_accuracy: 0.9989\n",
            "Epoch 49/50\n",
            "30/30 [==============================] - 22s 752ms/step - loss: 9.2015e-04 - accuracy: 0.9997 - val_loss: 0.0129 - val_accuracy: 0.9984\n",
            "Epoch 50/50\n",
            "30/30 [==============================] - 22s 751ms/step - loss: 0.0017 - accuracy: 0.9994 - val_loss: 0.0119 - val_accuracy: 0.9987\n"
          ]
        }
      ],
      "source": [
        "history = model.fit(np.array(X_train), np.array(y_train), batch_size = 512, epochs = 50, verbose = 1, validation_data = (np.array(X_test), np.array(y_test)))"
      ]
    },
    {
      "cell_type": "code",
      "execution_count": null,
      "metadata": {
        "colab": {
          "base_uri": "https://localhost:8080/",
          "height": 294
        },
        "id": "aPGy6B_NPKsR",
        "outputId": "c2b13f82-f577-49eb-d2df-4dc75371b047"
      },
      "outputs": [
        {
          "data": {
            "text/plain": [
              "Text(0.5, 1.0, 'Loss evolution')"
            ]
          },
          "execution_count": 25,
          "metadata": {},
          "output_type": "execute_result"
        },
        {
          "data": {
            "image/png": "[encoded data removed]",
            "text/plain": [
              "<Figure size 864x576 with 1 Axes>"
            ]
          },
          "metadata": {
            "needs_background": "light"
          },
          "output_type": "display_data"
        }
      ],
      "source": [
        "plt.figure(figsize=(12, 8))\n",
        "\n",
        "plt.subplot(2, 2, 1)\n",
        "plt.plot(history.history['loss'], label='Loss')\n",
        "plt.plot(history.history['val_loss'], label='val_Loss')\n",
        "plt.xlabel('Epochs')\n",
        "plt.legend()\n",
        "plt.grid()\n",
        "plt.title('Loss evolution')"
      ]
    },
    {
      "cell_type": "code",
      "execution_count": null,
      "metadata": {
        "colab": {
          "base_uri": "https://localhost:8080/",
          "height": 294
        },
        "id": "hkfGpvuAUntX",
        "outputId": "5fedeaa4-352e-4d9f-89f9-c51d35298696"
      },
      "outputs": [
        {
          "data": {
            "text/plain": [
              "Text(0.5, 1.0, 'Accuracy evolution')"
            ]
          },
          "execution_count": 26,
          "metadata": {},
          "output_type": "execute_result"
        },
        {
          "data": {
            "image/png": "[encoded data removed]",
            "text/plain": [
              "<Figure size 864x576 with 1 Axes>"
            ]
          },
          "metadata": {
            "needs_background": "light"
          },
          "output_type": "display_data"
        }
      ],
      "source": [
        "plt.figure(figsize=(12, 8))\n",
        "\n",
        "plt.subplot(2, 2, 2)\n",
        "plt.plot(history.history['accuracy'], label='accuracy')\n",
        "plt.plot(history.history['val_accuracy'], label='val_accuracy')\n",
        "plt.xlabel('Epochs')\n",
        "plt.legend()\n",
        "plt.grid()\n",
        "plt.title('Accuracy evolution')"
      ]
    },
    {
      "cell_type": "code",
      "execution_count": null,
      "metadata": {
        "colab": {
          "base_uri": "https://localhost:8080/"
        },
        "id": "m7njPPj_YZWM",
        "outputId": "a7420616-7552-4e0a-ecf9-017692e0dba2"
      },
      "outputs": [
        {
          "name": "stdout",
          "output_type": "stream",
          "text": [
            "118/118 [==============================] - 2s 18ms/step\n"
          ]
        }
      ],
      "source": [
        "y_pred = model.predict(np.array(X_test))"
      ]
    },
    {
      "cell_type": "code",
      "execution_count": null,
      "metadata": {
        "colab": {
          "base_uri": "https://localhost:8080/"
        },
        "id": "w_Af0o4zWZzl",
        "outputId": "b7aa176a-12f7-4e09-ce15-345f3f5ab30a"
      },
      "outputs": [
        {
          "data": {
            "text/plain": [
              "(3776, 36)"
            ]
          },
          "execution_count": 52,
          "metadata": {},
          "output_type": "execute_result"
        }
      ],
      "source": [
        "y_pred.shape"
      ]
    },
    {
      "cell_type": "code",
      "execution_count": null,
      "metadata": {
        "id": "LDVZ8QlNdyxV"
      },
      "outputs": [],
      "source": [
        "from sklearn.metrics import accuracy_score\n",
        "from sklearn.metrics import f1_score\n",
        "from sklearn.metrics import classification_report\n",
        "from sklearn.metrics import confusion_matrix"
      ]
    },
    {
      "cell_type": "code",
      "execution_count": null,
      "metadata": {
        "id": "oezJjDnBW4OD"
      },
      "outputs": [],
      "source": []
    },
    {
      "cell_type": "code",
      "execution_count": null,
      "metadata": {
        "id": "NNcBRgGlVS9B"
      },
      "outputs": [],
      "source": [
        "#print(confusion_matrix(y_test, y_pred))"
      ]
    },
    {
      "cell_type": "code",
      "execution_count": null,
      "metadata": {
        "colab": {
          "base_uri": "https://localhost:8080/"
        },
        "id": "NPzmwxQoeZ-x",
        "outputId": "7ebe2510-ed18-4b6a-91cc-bf462600f483"
      },
      "outputs": [
        {
          "data": {
            "text/plain": [
              "array([5.18063456e-16, 2.74893674e-17, 5.61827467e-15, 3.13568738e-16,\n",
              "       1.02362997e-12, 2.63560553e-14, 7.07040980e-13, 1.17115328e-16,\n",
              "       1.37986188e-15, 5.84941768e-15, 1.84354199e-11, 6.33627189e-15,\n",
              "       8.09103381e-13, 1.21950880e-15, 3.37581627e-14, 2.03183362e-15,\n",
              "       1.61028915e-15, 7.30678519e-16, 1.53539659e-12, 4.01671663e-15,\n",
              "       1.23573877e-17, 4.98292754e-16, 1.88267709e-14, 5.83288116e-16,\n",
              "       1.02498822e-15, 1.74233106e-18, 1.35784548e-14, 1.03551240e-16,\n",
              "       1.30967895e-17, 7.62241485e-12, 5.12074966e-11, 6.75673146e-12,\n",
              "       1.21537668e-13, 7.70149888e-10, 1.00000000e+00, 1.04393534e-11],\n",
              "      dtype=float32)"
            ]
          },
          "execution_count": 45,
          "metadata": {},
          "output_type": "execute_result"
        }
      ],
      "source": [
        "y_pred[0]"
      ]
    },
    {
      "cell_type": "code",
      "execution_count": null,
      "metadata": {
        "id": "3u07z2KqW90j"
      },
      "outputs": [],
      "source": [
        "y_test = np.argmax(y_test, axis=1)"
      ]
    },
    {
      "cell_type": "code",
      "execution_count": null,
      "metadata": {
        "colab": {
          "base_uri": "https://localhost:8080/"
        },
        "id": "7egW08GkYnx_",
        "outputId": "00c6e7fa-688a-4fa6-ef99-0c6a5a0a1a75"
      },
      "outputs": [
        {
          "data": {
            "text/plain": [
              "(3776, 36)"
            ]
          },
          "execution_count": 29,
          "metadata": {},
          "output_type": "execute_result"
        }
      ],
      "source": [
        "y_pred.shape"
      ]
    },
    {
      "cell_type": "code",
      "execution_count": null,
      "metadata": {
        "id": "AZ2fRlEPefRE"
      },
      "outputs": [],
      "source": [
        "y_pred=np.argmax(y_pred, axis=1)"
      ]
    },
    {
      "cell_type": "code",
      "execution_count": null,
      "metadata": {
        "id": "iX4AuHgxf7tk"
      },
      "outputs": [],
      "source": [
        "#y_pred = np_utils.to_categorical(y_pred)"
      ]
    },
    {
      "cell_type": "code",
      "execution_count": null,
      "metadata": {
        "colab": {
          "base_uri": "https://localhost:8080/"
        },
        "id": "DQzms_u4dyuu",
        "outputId": "d364ecc9-e157-433d-ae83-b1600a7873d5"
      },
      "outputs": [
        {
          "data": {
            "text/plain": [
              "0.9986758474576272"
            ]
          },
          "execution_count": 54,
          "metadata": {},
          "output_type": "execute_result"
        }
      ],
      "source": [
        "accuracy_score(y_test,y_pred)"
      ]
    },
    {
      "cell_type": "code",
      "execution_count": null,
      "metadata": {
        "colab": {
          "base_uri": "https://localhost:8080/"
        },
        "id": "SNklD2a9k-SF",
        "outputId": "247e6be2-92e8-425b-e73c-34ce79474885"
      },
      "outputs": [
        {
          "name": "stdout",
          "output_type": "stream",
          "text": [
            "              precision    recall  f1-score   support\n",
            "\n",
            "           0       1.00      1.00      1.00       120\n",
            "           1       1.00      1.00      1.00       127\n",
            "           2       1.00      1.00      1.00        62\n",
            "           3       1.00      1.00      1.00       104\n",
            "           4       1.00      0.99      0.99        99\n",
            "           5       1.00      1.00      1.00       112\n",
            "           6       1.00      1.00      1.00       140\n",
            "           7       1.00      1.00      1.00       103\n",
            "           8       1.00      1.00      1.00       104\n",
            "           9       1.00      1.00      1.00       113\n",
            "          10       0.99      1.00      1.00       106\n",
            "          11       1.00      0.99      1.00       113\n",
            "          12       1.00      1.00      1.00       115\n",
            "          13       1.00      0.99      1.00       117\n",
            "          14       0.99      1.00      0.99        87\n",
            "          15       1.00      0.99      1.00       125\n",
            "          16       1.00      1.00      1.00        96\n",
            "          17       1.00      1.00      1.00       113\n",
            "          18       1.00      1.00      1.00       120\n",
            "          19       0.99      1.00      1.00       121\n",
            "          20       1.00      1.00      1.00        95\n",
            "          21       1.00      1.00      1.00       107\n",
            "          22       1.00      1.00      1.00       121\n",
            "          23       1.00      1.00      1.00        97\n",
            "          24       0.99      1.00      1.00       119\n",
            "          25       1.00      0.99      1.00       107\n",
            "          26       1.00      1.00      1.00        54\n",
            "          27       0.99      1.00      0.99        81\n",
            "          28       1.00      1.00      1.00       105\n",
            "          29       1.00      1.00      1.00       107\n",
            "          30       1.00      1.00      1.00        86\n",
            "          31       1.00      1.00      1.00       100\n",
            "          32       1.00      1.00      1.00        87\n",
            "          33       1.00      1.00      1.00       103\n",
            "          34       1.00      1.00      1.00       102\n",
            "          35       1.00      1.00      1.00       108\n",
            "\n",
            "    accuracy                           1.00      3776\n",
            "   macro avg       1.00      1.00      1.00      3776\n",
            "weighted avg       1.00      1.00      1.00      3776\n",
            "\n"
          ]
        }
      ],
      "source": [
        "print(classification_report(y_test,y_pred))"
      ]
    },
    {
      "cell_type": "code",
      "execution_count": null,
      "metadata": {
        "id": "tbHWgYj-8DGD"
      },
      "outputs": [],
      "source": [
        "clf_report = classification_report(y_test,\n",
        "                                   y_pred,\n",
        "                                   output_dict=True)"
      ]
    },
    {
      "cell_type": "code",
      "execution_count": null,
      "metadata": {
        "colab": {
          "base_uri": "https://localhost:8080/",
          "height": 287
        },
        "id": "dErjpQ8l8Mb7",
        "outputId": "743bc7a8-4283-404a-a1d7-eff40a34d56b"
      },
      "outputs": [
        {
          "data": {
            "text/plain": [
              "<matplotlib.axes._subplots.AxesSubplot at 0x7f1bd475e750>"
            ]
          },
          "execution_count": 78,
          "metadata": {},
          "output_type": "execute_result"
        },
        {
          "data": {
            "image/png": "[encoded data removed]",
            "text/plain": [
              "<Figure size 432x288 with 2 Axes>"
            ]
          },
          "metadata": {
            "needs_background": "light"
          },
          "output_type": "display_data"
        }
      ],
      "source": [
        "sns.heatmap(pd.DataFrame(clf_report).iloc[:-1, :].T, annot=True)"
      ]
    },
    {
      "cell_type": "code",
      "execution_count": null,
      "metadata": {
        "id": "5JQabGr38QO7"
      },
      "outputs": [],
      "source": [
        "import seaborn as sns"
      ]
    },
    {
      "cell_type": "code",
      "execution_count": null,
      "metadata": {
        "id": "NHNTBx0_51KV"
      },
      "outputs": [],
      "source": [
        "clsf_report = pd.DataFrame(classification_report(y_test, y_pred, output_dict=True)).transpose()"
      ]
    },
    {
      "cell_type": "code",
      "execution_count": null,
      "metadata": {
        "colab": {
          "base_uri": "https://localhost:8080/",
          "height": 659
        },
        "id": "_1XfiFbj6Qrb",
        "outputId": "4e0d972f-5672-44c4-d771-fbf5782c9097"
      },
      "outputs": [
        {
          "data": {
            "text/html": [
              "\n",
              "  <div id=\"df-9d1194a0-163b-4461-a0af-908c5786c97b\">\n",
              "    <div class=\"colab-df-container\">\n",
              "      <div>\n",
              "<style scoped>\n",
              "    .dataframe tbody tr th:only-of-type {\n",
              "        vertical-align: middle;\n",
              "    }\n",
              "\n",
              "    .dataframe tbody tr th {\n",
              "        vertical-align: top;\n",
              "    }\n",
              "\n",
              "    .dataframe thead th {\n",
              "        text-align: right;\n",
              "    }\n",
              "</style>\n",
              "<table border=\"1\" class=\"dataframe\">\n",
              "  <thead>\n",
              "    <tr style=\"text-align: right;\">\n",
              "      <th></th>\n",
              "      <th>precision</th>\n",
              "      <th>recall</th>\n",
              "      <th>f1-score</th>\n",
              "      <th>support</th>\n",
              "    </tr>\n",
              "  </thead>\n",
              "  <tbody>\n",
              "    <tr>\n",
              "      <th>0</th>\n",
              "      <td>1.000000</td>\n",
              "      <td>1.000000</td>\n",
              "      <td>1.000000</td>\n",
              "      <td>120.000000</td>\n",
              "    </tr>\n",
              "    <tr>\n",
              "      <th>1</th>\n",
              "      <td>1.000000</td>\n",
              "      <td>1.000000</td>\n",
              "      <td>1.000000</td>\n",
              "      <td>127.000000</td>\n",
              "    </tr>\n",
              "    <tr>\n",
              "      <th>2</th>\n",
              "      <td>1.000000</td>\n",
              "      <td>1.000000</td>\n",
              "      <td>1.000000</td>\n",
              "      <td>62.000000</td>\n",
              "    </tr>\n",
              "    <tr>\n",
              "      <th>3</th>\n",
              "      <td>1.000000</td>\n",
              "      <td>1.000000</td>\n",
              "      <td>1.000000</td>\n",
              "      <td>104.000000</td>\n",
              "    </tr>\n",
              "    <tr>\n",
              "      <th>4</th>\n",
              "      <td>1.000000</td>\n",
              "      <td>0.989899</td>\n",
              "      <td>0.994924</td>\n",
              "      <td>99.000000</td>\n",
              "    </tr>\n",
              "    <tr>\n",
              "      <th>5</th>\n",
              "      <td>1.000000</td>\n",
              "      <td>1.000000</td>\n",
              "      <td>1.000000</td>\n",
              "      <td>112.000000</td>\n",
              "    </tr>\n",
              "    <tr>\n",
              "      <th>6</th>\n",
              "      <td>1.000000</td>\n",
              "      <td>1.000000</td>\n",
              "      <td>1.000000</td>\n",
              "      <td>140.000000</td>\n",
              "    </tr>\n",
              "    <tr>\n",
              "      <th>7</th>\n",
              "      <td>1.000000</td>\n",
              "      <td>1.000000</td>\n",
              "      <td>1.000000</td>\n",
              "      <td>103.000000</td>\n",
              "    </tr>\n",
              "    <tr>\n",
              "      <th>8</th>\n",
              "      <td>1.000000</td>\n",
              "      <td>1.000000</td>\n",
              "      <td>1.000000</td>\n",
              "      <td>104.000000</td>\n",
              "    </tr>\n",
              "    <tr>\n",
              "      <th>9</th>\n",
              "      <td>1.000000</td>\n",
              "      <td>1.000000</td>\n",
              "      <td>1.000000</td>\n",
              "      <td>113.000000</td>\n",
              "    </tr>\n",
              "    <tr>\n",
              "      <th>10</th>\n",
              "      <td>0.990654</td>\n",
              "      <td>1.000000</td>\n",
              "      <td>0.995305</td>\n",
              "      <td>106.000000</td>\n",
              "    </tr>\n",
              "    <tr>\n",
              "      <th>11</th>\n",
              "      <td>1.000000</td>\n",
              "      <td>0.991150</td>\n",
              "      <td>0.995556</td>\n",
              "      <td>113.000000</td>\n",
              "    </tr>\n",
              "    <tr>\n",
              "      <th>12</th>\n",
              "      <td>1.000000</td>\n",
              "      <td>1.000000</td>\n",
              "      <td>1.000000</td>\n",
              "      <td>115.000000</td>\n",
              "    </tr>\n",
              "    <tr>\n",
              "      <th>13</th>\n",
              "      <td>1.000000</td>\n",
              "      <td>0.991453</td>\n",
              "      <td>0.995708</td>\n",
              "      <td>117.000000</td>\n",
              "    </tr>\n",
              "    <tr>\n",
              "      <th>14</th>\n",
              "      <td>0.988636</td>\n",
              "      <td>1.000000</td>\n",
              "      <td>0.994286</td>\n",
              "      <td>87.000000</td>\n",
              "    </tr>\n",
              "    <tr>\n",
              "      <th>15</th>\n",
              "      <td>1.000000</td>\n",
              "      <td>0.992000</td>\n",
              "      <td>0.995984</td>\n",
              "      <td>125.000000</td>\n",
              "    </tr>\n",
              "    <tr>\n",
              "      <th>16</th>\n",
              "      <td>1.000000</td>\n",
              "      <td>1.000000</td>\n",
              "      <td>1.000000</td>\n",
              "      <td>96.000000</td>\n",
              "    </tr>\n",
              "    <tr>\n",
              "      <th>17</th>\n",
              "      <td>1.000000</td>\n",
              "      <td>1.000000</td>\n",
              "      <td>1.000000</td>\n",
              "      <td>113.000000</td>\n",
              "    </tr>\n",
              "    <tr>\n",
              "      <th>18</th>\n",
              "      <td>1.000000</td>\n",
              "      <td>1.000000</td>\n",
              "      <td>1.000000</td>\n",
              "      <td>120.000000</td>\n",
              "    </tr>\n",
              "    <tr>\n",
              "      <th>19</th>\n",
              "      <td>0.991803</td>\n",
              "      <td>1.000000</td>\n",
              "      <td>0.995885</td>\n",
              "      <td>121.000000</td>\n",
              "    </tr>\n",
              "    <tr>\n",
              "      <th>20</th>\n",
              "      <td>1.000000</td>\n",
              "      <td>1.000000</td>\n",
              "      <td>1.000000</td>\n",
              "      <td>95.000000</td>\n",
              "    </tr>\n",
              "    <tr>\n",
              "      <th>21</th>\n",
              "      <td>1.000000</td>\n",
              "      <td>1.000000</td>\n",
              "      <td>1.000000</td>\n",
              "      <td>107.000000</td>\n",
              "    </tr>\n",
              "    <tr>\n",
              "      <th>22</th>\n",
              "      <td>1.000000</td>\n",
              "      <td>1.000000</td>\n",
              "      <td>1.000000</td>\n",
              "      <td>121.000000</td>\n",
              "    </tr>\n",
              "    <tr>\n",
              "      <th>23</th>\n",
              "      <td>1.000000</td>\n",
              "      <td>1.000000</td>\n",
              "      <td>1.000000</td>\n",
              "      <td>97.000000</td>\n",
              "    </tr>\n",
              "    <tr>\n",
              "      <th>24</th>\n",
              "      <td>0.991667</td>\n",
              "      <td>1.000000</td>\n",
              "      <td>0.995816</td>\n",
              "      <td>119.000000</td>\n",
              "    </tr>\n",
              "    <tr>\n",
              "      <th>25</th>\n",
              "      <td>1.000000</td>\n",
              "      <td>0.990654</td>\n",
              "      <td>0.995305</td>\n",
              "      <td>107.000000</td>\n",
              "    </tr>\n",
              "    <tr>\n",
              "      <th>26</th>\n",
              "      <td>1.000000</td>\n",
              "      <td>1.000000</td>\n",
              "      <td>1.000000</td>\n",
              "      <td>54.000000</td>\n",
              "    </tr>\n",
              "    <tr>\n",
              "      <th>27</th>\n",
              "      <td>0.987805</td>\n",
              "      <td>1.000000</td>\n",
              "      <td>0.993865</td>\n",
              "      <td>81.000000</td>\n",
              "    </tr>\n",
              "    <tr>\n",
              "      <th>28</th>\n",
              "      <td>1.000000</td>\n",
              "      <td>1.000000</td>\n",
              "      <td>1.000000</td>\n",
              "      <td>105.000000</td>\n",
              "    </tr>\n",
              "    <tr>\n",
              "      <th>29</th>\n",
              "      <td>1.000000</td>\n",
              "      <td>1.000000</td>\n",
              "      <td>1.000000</td>\n",
              "      <td>107.000000</td>\n",
              "    </tr>\n",
              "    <tr>\n",
              "      <th>30</th>\n",
              "      <td>1.000000</td>\n",
              "      <td>1.000000</td>\n",
              "      <td>1.000000</td>\n",
              "      <td>86.000000</td>\n",
              "    </tr>\n",
              "    <tr>\n",
              "      <th>31</th>\n",
              "      <td>1.000000</td>\n",
              "      <td>1.000000</td>\n",
              "      <td>1.000000</td>\n",
              "      <td>100.000000</td>\n",
              "    </tr>\n",
              "    <tr>\n",
              "      <th>32</th>\n",
              "      <td>1.000000</td>\n",
              "      <td>1.000000</td>\n",
              "      <td>1.000000</td>\n",
              "      <td>87.000000</td>\n",
              "    </tr>\n",
              "    <tr>\n",
              "      <th>33</th>\n",
              "      <td>1.000000</td>\n",
              "      <td>1.000000</td>\n",
              "      <td>1.000000</td>\n",
              "      <td>103.000000</td>\n",
              "    </tr>\n",
              "    <tr>\n",
              "      <th>34</th>\n",
              "      <td>1.000000</td>\n",
              "      <td>1.000000</td>\n",
              "      <td>1.000000</td>\n",
              "      <td>102.000000</td>\n",
              "    </tr>\n",
              "    <tr>\n",
              "      <th>35</th>\n",
              "      <td>1.000000</td>\n",
              "      <td>1.000000</td>\n",
              "      <td>1.000000</td>\n",
              "      <td>108.000000</td>\n",
              "    </tr>\n",
              "    <tr>\n",
              "      <th>accuracy</th>\n",
              "      <td>0.998676</td>\n",
              "      <td>0.998676</td>\n",
              "      <td>0.998676</td>\n",
              "      <td>0.998676</td>\n",
              "    </tr>\n",
              "    <tr>\n",
              "      <th>macro avg</th>\n",
              "      <td>0.998627</td>\n",
              "      <td>0.998754</td>\n",
              "      <td>0.998684</td>\n",
              "      <td>3776.000000</td>\n",
              "    </tr>\n",
              "    <tr>\n",
              "      <th>weighted avg</th>\n",
              "      <td>0.998689</td>\n",
              "      <td>0.998676</td>\n",
              "      <td>0.998676</td>\n",
              "      <td>3776.000000</td>\n",
              "    </tr>\n",
              "  </tbody>\n",
              "</table>\n",
              "</div>\n",
              "      <button class=\"colab-df-convert\" onclick=\"convertToInteractive('df-9d1194a0-163b-4461-a0af-908c5786c97b')\"\n",
              "              title=\"Convert this dataframe to an interactive table.\"\n",
              "              style=\"display:none;\">\n",
              "        \n",
              "  <svg xmlns=\"http://www.w3.org/2000/svg\" height=\"24px\"viewBox=\"0 0 24 24\"\n",
              "       width=\"24px\">\n",
              "    <path d=\"M0 0h24v24H0V0z\" fill=\"none\"/>\n",
              "    <path d=\"M18.56 5.44l.94 2.06.94-2.06 2.06-.94-2.06-.94-.94-2.06-.94 2.06-2.06.94zm-11 1L8.5 8.5l.94-2.06 2.06-.94-2.06-.94L8.5 2.5l-.94 2.06-2.06.94zm10 10l.94 2.06.94-2.06 2.06-.94-2.06-.94-.94-2.06-.94 2.06-2.06.94z\"/><path d=\"M17.41 7.96l-1.37-1.37c-.4-.4-.92-.59-1.43-.59-.52 0-1.04.2-1.43.59L10.3 9.45l-7.72 7.72c-.78.78-.78 2.05 0 2.83L4 21.41c.39.39.9.59 1.41.59.51 0 1.02-.2 1.41-.59l7.78-7.78 2.81-2.81c.8-.78.8-2.07 0-2.86zM5.41 20L4 18.59l7.72-7.72 1.47 1.35L5.41 20z\"/>\n",
              "  </svg>\n",
              "      </button>\n",
              "      \n",
              "  <style>\n",
              "    .colab-df-container {\n",
              "      display:flex;\n",
              "      flex-wrap:wrap;\n",
              "      gap: 12px;\n",
              "    }\n",
              "\n",
              "    .colab-df-convert {\n",
              "      background-color: #E8F0FE;\n",
              "      border: none;\n",
              "      border-radius: 50%;\n",
              "      cursor: pointer;\n",
              "      display: none;\n",
              "      fill: #1967D2;\n",
              "      height: 32px;\n",
              "      padding: 0 0 0 0;\n",
              "      width: 32px;\n",
              "    }\n",
              "\n",
              "    .colab-df-convert:hover {\n",
              "      background-color: #E2EBFA;\n",
              "      box-shadow: 0px 1px 2px rgba(60, 64, 67, 0.3), 0px 1px 3px 1px rgba(60, 64, 67, 0.15);\n",
              "      fill: #174EA6;\n",
              "    }\n",
              "\n",
              "    [theme=dark] .colab-df-convert {\n",
              "      background-color: #3B4455;\n",
              "      fill: #D2E3FC;\n",
              "    }\n",
              "\n",
              "    [theme=dark] .colab-df-convert:hover {\n",
              "      background-color: #434B5C;\n",
              "      box-shadow: 0px 1px 3px 1px rgba(0, 0, 0, 0.15);\n",
              "      filter: drop-shadow(0px 1px 2px rgba(0, 0, 0, 0.3));\n",
              "      fill: #FFFFFF;\n",
              "    }\n",
              "  </style>\n",
              "\n",
              "      <script>\n",
              "        const buttonEl =\n",
              "          document.querySelector('#df-9d1194a0-163b-4461-a0af-908c5786c97b button.colab-df-convert');\n",
              "        buttonEl.style.display =\n",
              "          google.colab.kernel.accessAllowed ? 'block' : 'none';\n",
              "\n",
              "        async function convertToInteractive(key) {\n",
              "          const element = document.querySelector('#df-9d1194a0-163b-4461-a0af-908c5786c97b');\n",
              "          const dataTable =\n",
              "            await google.colab.kernel.invokeFunction('convertToInteractive',\n",
              "                                                     [key], {});\n",
              "          if (!dataTable) return;\n",
              "\n",
              "          const docLinkHtml = 'Like what you see? Visit the ' +\n",
              "            '<a target=\"_blank\" href=https://colab.research.google.com/notebooks/data_table.ipynb>data table notebook</a>'\n",
              "            + ' to learn more about interactive tables.';\n",
              "          element.innerHTML = '';\n",
              "          dataTable['output_type'] = 'display_data';\n",
              "          await google.colab.output.renderOutput(dataTable, element);\n",
              "          const docLink = document.createElement('div');\n",
              "          docLink.innerHTML = docLinkHtml;\n",
              "          element.appendChild(docLink);\n",
              "        }\n",
              "      </script>\n",
              "    </div>\n",
              "  </div>\n",
              "  "
            ],
            "text/plain": [
              "              precision    recall  f1-score      support\n",
              "0              1.000000  1.000000  1.000000   120.000000\n",
              "1              1.000000  1.000000  1.000000   127.000000\n",
              "2              1.000000  1.000000  1.000000    62.000000\n",
              "3              1.000000  1.000000  1.000000   104.000000\n",
              "4              1.000000  0.989899  0.994924    99.000000\n",
              "5              1.000000  1.000000  1.000000   112.000000\n",
              "6              1.000000  1.000000  1.000000   140.000000\n",
              "7              1.000000  1.000000  1.000000   103.000000\n",
              "8              1.000000  1.000000  1.000000   104.000000\n",
              "9              1.000000  1.000000  1.000000   113.000000\n",
              "10             0.990654  1.000000  0.995305   106.000000\n",
              "11             1.000000  0.991150  0.995556   113.000000\n",
              "12             1.000000  1.000000  1.000000   115.000000\n",
              "13             1.000000  0.991453  0.995708   117.000000\n",
              "14             0.988636  1.000000  0.994286    87.000000\n",
              "15             1.000000  0.992000  0.995984   125.000000\n",
              "16             1.000000  1.000000  1.000000    96.000000\n",
              "17             1.000000  1.000000  1.000000   113.000000\n",
              "18             1.000000  1.000000  1.000000   120.000000\n",
              "19             0.991803  1.000000  0.995885   121.000000\n",
              "20             1.000000  1.000000  1.000000    95.000000\n",
              "21             1.000000  1.000000  1.000000   107.000000\n",
              "22             1.000000  1.000000  1.000000   121.000000\n",
              "23             1.000000  1.000000  1.000000    97.000000\n",
              "24             0.991667  1.000000  0.995816   119.000000\n",
              "25             1.000000  0.990654  0.995305   107.000000\n",
              "26             1.000000  1.000000  1.000000    54.000000\n",
              "27             0.987805  1.000000  0.993865    81.000000\n",
              "28             1.000000  1.000000  1.000000   105.000000\n",
              "29             1.000000  1.000000  1.000000   107.000000\n",
              "30             1.000000  1.000000  1.000000    86.000000\n",
              "31             1.000000  1.000000  1.000000   100.000000\n",
              "32             1.000000  1.000000  1.000000    87.000000\n",
              "33             1.000000  1.000000  1.000000   103.000000\n",
              "34             1.000000  1.000000  1.000000   102.000000\n",
              "35             1.000000  1.000000  1.000000   108.000000\n",
              "accuracy       0.998676  0.998676  0.998676     0.998676\n",
              "macro avg      0.998627  0.998754  0.998684  3776.000000\n",
              "weighted avg   0.998689  0.998676  0.998676  3776.000000"
            ]
          },
          "execution_count": 71,
          "metadata": {},
          "output_type": "execute_result"
        }
      ],
      "source": [
        "clsf_report"
      ]
    },
    {
      "cell_type": "code",
      "execution_count": null,
      "metadata": {
        "colab": {
          "base_uri": "https://localhost:8080/",
          "height": 613
        },
        "id": "on5WV1KD8pq5",
        "outputId": "3205bc32-159a-49cf-cf7a-1d773f1de5f6"
      },
      "outputs": [
        {
          "data": {
            "text/plain": [
              "<matplotlib.axes._subplots.AxesSubplot at 0x7fa2e29ced10>"
            ]
          },
          "execution_count": 59,
          "metadata": {},
          "output_type": "execute_result"
        },
        {
          "data": {
            "image/png": "[encoded data removed]",
            "text/plain": [
              "<Figure size 1080x720 with 2 Axes>"
            ]
          },
          "metadata": {
            "needs_background": "light"
          },
          "output_type": "display_data"
        }
      ],
      "source": [
        "cf_matrix = confusion_matrix(y_test, y_pred)\n",
        "fig, ax = plt.subplots(figsize=(15,10)) \n",
        "sns.heatmap(cf_matrix, linewidths=1, annot=True, ax=ax, fmt='g',cmap=\"Blues\")"
      ]
    },
    {
      "cell_type": "code",
      "execution_count": null,
      "metadata": {
        "id": "3NnyBQbGjpWq"
      },
      "outputs": [],
      "source": [
        "model.save(\"MODEL_0810.h5\")\n"
      ]
    },
    {
      "cell_type": "markdown",
      "metadata": {
        "id": "P_PWoPIgvcWF"
      },
      "source": [
        "Prediction for an image"
      ]
    },
    {
      "cell_type": "code",
      "execution_count": null,
      "metadata": {
        "id": "4nCeHP-3v0aR"
      },
      "outputs": [],
      "source": [
        "with open('labels.txt','w') as f:\n",
        "    for i, j in zip(CATEGORY_MAP.keys(), CATEGORY_MAP.values()):\n",
        "        f.write('{} {}\\n'.format(i,j))\n",
        "    f.close()"
      ]
    },
    {
      "cell_type": "code",
      "execution_count": null,
      "metadata": {
        "colab": {
          "base_uri": "https://localhost:8080/"
        },
        "id": "RmfZsPfUv0XB",
        "outputId": "c95c5acb-995f-4dd9-9e2f-c38a018b5682"
      },
      "outputs": [
        {
          "name": "stdout",
          "output_type": "stream",
          "text": [
            "A 0\n",
            "B 1\n",
            "C 2\n",
            "D 3\n",
            "E 4\n",
            "F 5\n",
            "G 6\n",
            "H 7\n",
            "I 8\n",
            "J 9\n",
            "K 10\n",
            "L 11\n",
            "M 12\n",
            "N 13\n",
            "O 14\n",
            "P 15\n",
            "Q 16\n",
            "R 17\n",
            "S 18\n",
            "T 19\n",
            "U 20\n",
            "V 21\n",
            "W 22\n",
            "X 23\n",
            "Y 24\n",
            "Z 25\n",
            "0 26\n",
            "1 27\n",
            "2 28\n",
            "3 29\n",
            "4 30\n",
            "5 31\n",
            "6 32\n",
            "7 33\n",
            "8 34\n",
            "9 35\n",
            "\n"
          ]
        }
      ],
      "source": [
        "with open('labels.txt','r') as f:\n",
        "    classNames=f.read()\n",
        "    print(classNames)\n",
        "    f.close()"
      ]
    },
    {
      "cell_type": "code",
      "execution_count": null,
      "metadata": {
        "id": "SLe77bJrwZTN"
      },
      "outputs": [],
      "source": [
        "from keras.models import load_model"
      ]
    },
    {
      "cell_type": "code",
      "execution_count": null,
      "metadata": {
        "id": "n6CluB3EwROZ"
      },
      "outputs": [],
      "source": [
        "model = load_model('gesture-model.h5')"
      ]
    },
    {
      "cell_type": "code",
      "execution_count": null,
      "metadata": {
        "id": "xCJ-tWgcwRKz"
      },
      "outputs": [],
      "source": [
        "img = cv2.imread('/content/drive/MyDrive/Hand_Gesture/R/Image_1658898143.5361705.jpg')\n",
        "img = cv2.cvtColor(img, cv2.COLOR_BGR2RGB)\n",
        "img = cv2.resize(img, (225, 225))"
      ]
    },
    {
      "cell_type": "code",
      "execution_count": null,
      "metadata": {
        "id": "_u4Ln0cTwRIa"
      },
      "outputs": [],
      "source": [
        "inv_map = {v: k for k, v in CATEGORY_MAP.items()}"
      ]
    },
    {
      "cell_type": "code",
      "execution_count": null,
      "metadata": {
        "colab": {
          "base_uri": "https://localhost:8080/"
        },
        "id": "oHrIu-B1wtV-",
        "outputId": "94117ecb-7def-418f-d0e8-308afdc94621"
      },
      "outputs": [
        {
          "name": "stdout",
          "output_type": "stream",
          "text": [
            "Predicted Gesture: R\n"
          ]
        }
      ],
      "source": [
        "prediction = model.predict(np.array([img]))\n",
        "\n",
        "gesture_numeric = np.argmax(prediction[0])\n",
        "\n",
        "print(\"Predicted Gesture: {}\".format(inv_map[gesture_numeric]))"
      ]
    },
    {
      "cell_type": "code",
      "execution_count": null,
      "metadata": {
        "id": "Z6ZDq-VpwtTE"
      },
      "outputs": [],
      "source": [
        "def preprocess(path):\n",
        "  img = cv2.imread(path)\n",
        "  img = cv2.cvtColor(img, cv2.COLOR_BGR2RGB)\n",
        "  img = cv2.resize(img, (225, 225))\n",
        "  return img\n",
        "  \n",
        "def predicted(img):\n",
        "  prediction = model.predict(np.array([img]))\n",
        "\n",
        "  gesture_numeric = np.argmax(prediction[0])\n",
        "  # gesture_name = mapper(gesture_numeric)\n",
        "\n",
        "  print(\"Predicted Gesture: {}\".format(inv_map[gesture_numeric]))"
      ]
    },
    {
      "cell_type": "code",
      "execution_count": null,
      "metadata": {
        "colab": {
          "base_uri": "https://localhost:8080/"
        },
        "id": "6t_Glqi8wtNS",
        "outputId": "b316dd7b-18d5-4cbd-f458-90d3550c6abe"
      },
      "outputs": [
        {
          "name": "stdout",
          "output_type": "stream",
          "text": [
            "Predicted Gesture: 9\n"
          ]
        }
      ],
      "source": [
        "path ='/content/drive/MyDrive/Hand_Gesture/9/Image_1658906395.048329.jpg'\n",
        "predicted(preprocess(path))"
      ]
    }
  ],
  "metadata": {
    "accelerator": "GPU",
    "colab": {
      "provenance": []
    },
    "gpuClass": "standard",
    "kernelspec": {
      "display_name": "Python 3",
      "language": "python",
      "name": "python3"
    },
    "language_info": {
      "name": "python",
      "version": "3.11.0 (main, Oct 24 2022, 18:26:48) [MSC v.1933 64 bit (AMD64)]"
    },
    "vscode": {
      "interpreter": {
        "hash": "d417a21d97a2e6b8832d21dc44f5cbe4be6e18325f874a8bb8484565b928cd54"
      }
    }
  },
  "nbformat": 4,
  "nbformat_minor": 0
}
